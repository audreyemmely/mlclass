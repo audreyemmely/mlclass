{
  "nbformat": 4,
  "nbformat_minor": 0,
  "metadata": {
    "colab": {
      "name": "validation.ipynb",
      "provenance": [],
      "collapsed_sections": [],
      "toc_visible": true
    },
    "kernelspec": {
      "name": "python3",
      "display_name": "Python 3"
    },
    "language_info": {
      "name": "python"
    }
  },
  "cells": [
    {
      "cell_type": "markdown",
      "metadata": {
        "id": "0ItwFwbqs2jh"
      },
      "source": [
        "## Importando os documentos e as bibliotecas necessárias"
      ]
    },
    {
      "cell_type": "code",
      "metadata": {
        "id": "KwqaZsbxq6Ca"
      },
      "source": [
        "#from google.colab import files\n",
        "#uploaded = files.upload()\n",
        "#upando os arquivos em xlsx"
      ],
      "execution_count": 1,
      "outputs": []
    },
    {
      "cell_type": "code",
      "metadata": {
        "id": "I_Rw9YaqpnNr"
      },
      "source": [
        "import matplotlib.pyplot as plt\n",
        "import pandas as pd\n",
        "import numpy as np\n",
        "import requests"
      ],
      "execution_count": 2,
      "outputs": []
    },
    {
      "cell_type": "markdown",
      "metadata": {
        "id": "WyHxmEKYr6rj"
      },
      "source": [
        "## Pré-processamento dos dados\n",
        "\n"
      ]
    },
    {
      "cell_type": "code",
      "metadata": {
        "id": "pa0wp9PEn4X4"
      },
      "source": [
        "data_train = pd.read_excel('abalone_dataset.xlsx')\n",
        "data_test = pd.read_excel('abalone_app.xlsx')"
      ],
      "execution_count": 3,
      "outputs": []
    },
    {
      "cell_type": "code",
      "metadata": {
        "colab": {
          "base_uri": "https://localhost:8080/",
          "height": 206
        },
        "id": "sLi-jLvms-xR",
        "outputId": "8c7a8bc6-8d92-43dc-c28e-d239ea1bed78"
      },
      "source": [
        "data_train.head()"
      ],
      "execution_count": 8,
      "outputs": [
        {
          "output_type": "execute_result",
          "data": {
            "text/html": [
              "<div>\n",
              "<style scoped>\n",
              "    .dataframe tbody tr th:only-of-type {\n",
              "        vertical-align: middle;\n",
              "    }\n",
              "\n",
              "    .dataframe tbody tr th {\n",
              "        vertical-align: top;\n",
              "    }\n",
              "\n",
              "    .dataframe thead th {\n",
              "        text-align: right;\n",
              "    }\n",
              "</style>\n",
              "<table border=\"1\" class=\"dataframe\">\n",
              "  <thead>\n",
              "    <tr style=\"text-align: right;\">\n",
              "      <th></th>\n",
              "      <th>sex</th>\n",
              "      <th>length</th>\n",
              "      <th>diameter</th>\n",
              "      <th>height</th>\n",
              "      <th>whole_weight</th>\n",
              "      <th>shucked_weight</th>\n",
              "      <th>viscera_weight</th>\n",
              "      <th>shell_weight</th>\n",
              "      <th>type</th>\n",
              "    </tr>\n",
              "  </thead>\n",
              "  <tbody>\n",
              "    <tr>\n",
              "      <th>0</th>\n",
              "      <td>M</td>\n",
              "      <td>0.535</td>\n",
              "      <td>0.420</td>\n",
              "      <td>0.150</td>\n",
              "      <td>0.6995</td>\n",
              "      <td>0.2575</td>\n",
              "      <td>0.1530</td>\n",
              "      <td>0.2400</td>\n",
              "      <td>3</td>\n",
              "    </tr>\n",
              "    <tr>\n",
              "      <th>1</th>\n",
              "      <td>I</td>\n",
              "      <td>0.510</td>\n",
              "      <td>0.380</td>\n",
              "      <td>0.115</td>\n",
              "      <td>0.5155</td>\n",
              "      <td>0.2150</td>\n",
              "      <td>0.1135</td>\n",
              "      <td>0.1660</td>\n",
              "      <td>1</td>\n",
              "    </tr>\n",
              "    <tr>\n",
              "      <th>2</th>\n",
              "      <td>I</td>\n",
              "      <td>0.185</td>\n",
              "      <td>0.130</td>\n",
              "      <td>0.045</td>\n",
              "      <td>0.0290</td>\n",
              "      <td>0.0120</td>\n",
              "      <td>0.0075</td>\n",
              "      <td>0.0095</td>\n",
              "      <td>1</td>\n",
              "    </tr>\n",
              "    <tr>\n",
              "      <th>3</th>\n",
              "      <td>M</td>\n",
              "      <td>0.550</td>\n",
              "      <td>0.450</td>\n",
              "      <td>0.170</td>\n",
              "      <td>0.8100</td>\n",
              "      <td>0.3170</td>\n",
              "      <td>0.1570</td>\n",
              "      <td>0.2200</td>\n",
              "      <td>3</td>\n",
              "    </tr>\n",
              "    <tr>\n",
              "      <th>4</th>\n",
              "      <td>I</td>\n",
              "      <td>0.535</td>\n",
              "      <td>0.415</td>\n",
              "      <td>0.150</td>\n",
              "      <td>0.5765</td>\n",
              "      <td>0.3595</td>\n",
              "      <td>0.1350</td>\n",
              "      <td>0.2250</td>\n",
              "      <td>1</td>\n",
              "    </tr>\n",
              "  </tbody>\n",
              "</table>\n",
              "</div>"
            ],
            "text/plain": [
              "  sex  length  diameter  ...  viscera_weight  shell_weight  type\n",
              "0   M   0.535     0.420  ...          0.1530        0.2400     3\n",
              "1   I   0.510     0.380  ...          0.1135        0.1660     1\n",
              "2   I   0.185     0.130  ...          0.0075        0.0095     1\n",
              "3   M   0.550     0.450  ...          0.1570        0.2200     3\n",
              "4   I   0.535     0.415  ...          0.1350        0.2250     1\n",
              "\n",
              "[5 rows x 9 columns]"
            ]
          },
          "metadata": {},
          "execution_count": 8
        }
      ]
    },
    {
      "cell_type": "code",
      "metadata": {
        "colab": {
          "base_uri": "https://localhost:8080/",
          "height": 206
        },
        "id": "JEowhnZdtBv7",
        "outputId": "f8cafd1b-a4bb-4336-ad41-7e2bda789094"
      },
      "source": [
        "data_test.head()"
      ],
      "execution_count": 9,
      "outputs": [
        {
          "output_type": "execute_result",
          "data": {
            "text/html": [
              "<div>\n",
              "<style scoped>\n",
              "    .dataframe tbody tr th:only-of-type {\n",
              "        vertical-align: middle;\n",
              "    }\n",
              "\n",
              "    .dataframe tbody tr th {\n",
              "        vertical-align: top;\n",
              "    }\n",
              "\n",
              "    .dataframe thead th {\n",
              "        text-align: right;\n",
              "    }\n",
              "</style>\n",
              "<table border=\"1\" class=\"dataframe\">\n",
              "  <thead>\n",
              "    <tr style=\"text-align: right;\">\n",
              "      <th></th>\n",
              "      <th>sex</th>\n",
              "      <th>length</th>\n",
              "      <th>diameter</th>\n",
              "      <th>height</th>\n",
              "      <th>whole_weight</th>\n",
              "      <th>shucked_weight</th>\n",
              "      <th>viscera_weight</th>\n",
              "      <th>shell_weight</th>\n",
              "    </tr>\n",
              "  </thead>\n",
              "  <tbody>\n",
              "    <tr>\n",
              "      <th>0</th>\n",
              "      <td>M</td>\n",
              "      <td>0.600</td>\n",
              "      <td>0.480</td>\n",
              "      <td>0.175</td>\n",
              "      <td>1.2290</td>\n",
              "      <td>0.4125</td>\n",
              "      <td>0.2735</td>\n",
              "      <td>0.4150</td>\n",
              "    </tr>\n",
              "    <tr>\n",
              "      <th>1</th>\n",
              "      <td>F</td>\n",
              "      <td>0.545</td>\n",
              "      <td>0.385</td>\n",
              "      <td>0.150</td>\n",
              "      <td>1.1185</td>\n",
              "      <td>0.5425</td>\n",
              "      <td>0.2445</td>\n",
              "      <td>0.2845</td>\n",
              "    </tr>\n",
              "    <tr>\n",
              "      <th>2</th>\n",
              "      <td>F</td>\n",
              "      <td>0.645</td>\n",
              "      <td>0.520</td>\n",
              "      <td>0.180</td>\n",
              "      <td>1.2850</td>\n",
              "      <td>0.5775</td>\n",
              "      <td>0.3520</td>\n",
              "      <td>0.3170</td>\n",
              "    </tr>\n",
              "    <tr>\n",
              "      <th>3</th>\n",
              "      <td>M</td>\n",
              "      <td>0.640</td>\n",
              "      <td>0.510</td>\n",
              "      <td>0.170</td>\n",
              "      <td>1.3715</td>\n",
              "      <td>0.5670</td>\n",
              "      <td>0.3070</td>\n",
              "      <td>0.4090</td>\n",
              "    </tr>\n",
              "    <tr>\n",
              "      <th>4</th>\n",
              "      <td>F</td>\n",
              "      <td>0.655</td>\n",
              "      <td>0.540</td>\n",
              "      <td>0.215</td>\n",
              "      <td>1.5555</td>\n",
              "      <td>0.6950</td>\n",
              "      <td>0.2960</td>\n",
              "      <td>0.4440</td>\n",
              "    </tr>\n",
              "  </tbody>\n",
              "</table>\n",
              "</div>"
            ],
            "text/plain": [
              "  sex  length  diameter  ...  shucked_weight  viscera_weight  shell_weight\n",
              "0   M   0.600     0.480  ...          0.4125          0.2735        0.4150\n",
              "1   F   0.545     0.385  ...          0.5425          0.2445        0.2845\n",
              "2   F   0.645     0.520  ...          0.5775          0.3520        0.3170\n",
              "3   M   0.640     0.510  ...          0.5670          0.3070        0.4090\n",
              "4   F   0.655     0.540  ...          0.6950          0.2960        0.4440\n",
              "\n",
              "[5 rows x 8 columns]"
            ]
          },
          "metadata": {},
          "execution_count": 9
        }
      ]
    },
    {
      "cell_type": "code",
      "metadata": {
        "colab": {
          "base_uri": "https://localhost:8080/"
        },
        "id": "B3HTVT9FtFYn",
        "outputId": "a3e50d34-3970-4aad-ecea-0f9ba2726e79"
      },
      "source": [
        "data_train.sex.unique()"
      ],
      "execution_count": 11,
      "outputs": [
        {
          "output_type": "execute_result",
          "data": {
            "text/plain": [
              "array(['M', 'I', 'F'], dtype=object)"
            ]
          },
          "metadata": {},
          "execution_count": 11
        }
      ]
    },
    {
      "cell_type": "code",
      "metadata": {
        "colab": {
          "base_uri": "https://localhost:8080/"
        },
        "id": "KMOu0hK_tLU8",
        "outputId": "d011f1af-1ece-43dc-ebdc-913ff4c6e49e"
      },
      "source": [
        "data_test.sex.unique()"
      ],
      "execution_count": 12,
      "outputs": [
        {
          "output_type": "execute_result",
          "data": {
            "text/plain": [
              "array(['M', 'F', 'I'], dtype=object)"
            ]
          },
          "metadata": {},
          "execution_count": 12
        }
      ]
    },
    {
      "cell_type": "markdown",
      "metadata": {
        "id": "0HRku5v0saUX"
      },
      "source": [
        "### Arredondando os valores\n",
        "\n"
      ]
    },
    {
      "cell_type": "code",
      "metadata": {
        "colab": {
          "base_uri": "https://localhost:8080/",
          "height": 424
        },
        "id": "rGg7RBECsKi3",
        "outputId": "bb21378c-5c65-4942-b283-a867caddab59"
      },
      "source": [
        "data_train.round(4)"
      ],
      "execution_count": 6,
      "outputs": [
        {
          "output_type": "execute_result",
          "data": {
            "text/html": [
              "<div>\n",
              "<style scoped>\n",
              "    .dataframe tbody tr th:only-of-type {\n",
              "        vertical-align: middle;\n",
              "    }\n",
              "\n",
              "    .dataframe tbody tr th {\n",
              "        vertical-align: top;\n",
              "    }\n",
              "\n",
              "    .dataframe thead th {\n",
              "        text-align: right;\n",
              "    }\n",
              "</style>\n",
              "<table border=\"1\" class=\"dataframe\">\n",
              "  <thead>\n",
              "    <tr style=\"text-align: right;\">\n",
              "      <th></th>\n",
              "      <th>sex</th>\n",
              "      <th>length</th>\n",
              "      <th>diameter</th>\n",
              "      <th>height</th>\n",
              "      <th>whole_weight</th>\n",
              "      <th>shucked_weight</th>\n",
              "      <th>viscera_weight</th>\n",
              "      <th>shell_weight</th>\n",
              "      <th>type</th>\n",
              "    </tr>\n",
              "  </thead>\n",
              "  <tbody>\n",
              "    <tr>\n",
              "      <th>0</th>\n",
              "      <td>M</td>\n",
              "      <td>0.535</td>\n",
              "      <td>0.420</td>\n",
              "      <td>0.150</td>\n",
              "      <td>0.6995</td>\n",
              "      <td>0.2575</td>\n",
              "      <td>0.1530</td>\n",
              "      <td>0.2400</td>\n",
              "      <td>3</td>\n",
              "    </tr>\n",
              "    <tr>\n",
              "      <th>1</th>\n",
              "      <td>I</td>\n",
              "      <td>0.510</td>\n",
              "      <td>0.380</td>\n",
              "      <td>0.115</td>\n",
              "      <td>0.5155</td>\n",
              "      <td>0.2150</td>\n",
              "      <td>0.1135</td>\n",
              "      <td>0.1660</td>\n",
              "      <td>1</td>\n",
              "    </tr>\n",
              "    <tr>\n",
              "      <th>2</th>\n",
              "      <td>I</td>\n",
              "      <td>0.185</td>\n",
              "      <td>0.130</td>\n",
              "      <td>0.045</td>\n",
              "      <td>0.0290</td>\n",
              "      <td>0.0120</td>\n",
              "      <td>0.0075</td>\n",
              "      <td>0.0095</td>\n",
              "      <td>1</td>\n",
              "    </tr>\n",
              "    <tr>\n",
              "      <th>3</th>\n",
              "      <td>M</td>\n",
              "      <td>0.550</td>\n",
              "      <td>0.450</td>\n",
              "      <td>0.170</td>\n",
              "      <td>0.8100</td>\n",
              "      <td>0.3170</td>\n",
              "      <td>0.1570</td>\n",
              "      <td>0.2200</td>\n",
              "      <td>3</td>\n",
              "    </tr>\n",
              "    <tr>\n",
              "      <th>4</th>\n",
              "      <td>I</td>\n",
              "      <td>0.535</td>\n",
              "      <td>0.415</td>\n",
              "      <td>0.150</td>\n",
              "      <td>0.5765</td>\n",
              "      <td>0.3595</td>\n",
              "      <td>0.1350</td>\n",
              "      <td>0.2250</td>\n",
              "      <td>1</td>\n",
              "    </tr>\n",
              "    <tr>\n",
              "      <th>...</th>\n",
              "      <td>...</td>\n",
              "      <td>...</td>\n",
              "      <td>...</td>\n",
              "      <td>...</td>\n",
              "      <td>...</td>\n",
              "      <td>...</td>\n",
              "      <td>...</td>\n",
              "      <td>...</td>\n",
              "      <td>...</td>\n",
              "    </tr>\n",
              "    <tr>\n",
              "      <th>3127</th>\n",
              "      <td>F</td>\n",
              "      <td>0.545</td>\n",
              "      <td>0.405</td>\n",
              "      <td>0.175</td>\n",
              "      <td>0.9800</td>\n",
              "      <td>0.2585</td>\n",
              "      <td>0.2070</td>\n",
              "      <td>0.3800</td>\n",
              "      <td>3</td>\n",
              "    </tr>\n",
              "    <tr>\n",
              "      <th>3128</th>\n",
              "      <td>M</td>\n",
              "      <td>0.655</td>\n",
              "      <td>0.525</td>\n",
              "      <td>0.185</td>\n",
              "      <td>1.2590</td>\n",
              "      <td>0.4870</td>\n",
              "      <td>0.2215</td>\n",
              "      <td>0.4450</td>\n",
              "      <td>3</td>\n",
              "    </tr>\n",
              "    <tr>\n",
              "      <th>3129</th>\n",
              "      <td>I</td>\n",
              "      <td>0.450</td>\n",
              "      <td>0.340</td>\n",
              "      <td>0.120</td>\n",
              "      <td>0.4925</td>\n",
              "      <td>0.2410</td>\n",
              "      <td>0.1075</td>\n",
              "      <td>0.1200</td>\n",
              "      <td>1</td>\n",
              "    </tr>\n",
              "    <tr>\n",
              "      <th>3130</th>\n",
              "      <td>F</td>\n",
              "      <td>0.520</td>\n",
              "      <td>0.410</td>\n",
              "      <td>0.155</td>\n",
              "      <td>0.7270</td>\n",
              "      <td>0.2910</td>\n",
              "      <td>0.1835</td>\n",
              "      <td>0.2350</td>\n",
              "      <td>3</td>\n",
              "    </tr>\n",
              "    <tr>\n",
              "      <th>3131</th>\n",
              "      <td>F</td>\n",
              "      <td>0.640</td>\n",
              "      <td>0.480</td>\n",
              "      <td>0.195</td>\n",
              "      <td>1.1435</td>\n",
              "      <td>0.4915</td>\n",
              "      <td>0.2345</td>\n",
              "      <td>0.3530</td>\n",
              "      <td>2</td>\n",
              "    </tr>\n",
              "  </tbody>\n",
              "</table>\n",
              "<p>3132 rows × 9 columns</p>\n",
              "</div>"
            ],
            "text/plain": [
              "     sex  length  diameter  ...  viscera_weight  shell_weight  type\n",
              "0      M   0.535     0.420  ...          0.1530        0.2400     3\n",
              "1      I   0.510     0.380  ...          0.1135        0.1660     1\n",
              "2      I   0.185     0.130  ...          0.0075        0.0095     1\n",
              "3      M   0.550     0.450  ...          0.1570        0.2200     3\n",
              "4      I   0.535     0.415  ...          0.1350        0.2250     1\n",
              "...   ..     ...       ...  ...             ...           ...   ...\n",
              "3127   F   0.545     0.405  ...          0.2070        0.3800     3\n",
              "3128   M   0.655     0.525  ...          0.2215        0.4450     3\n",
              "3129   I   0.450     0.340  ...          0.1075        0.1200     1\n",
              "3130   F   0.520     0.410  ...          0.1835        0.2350     3\n",
              "3131   F   0.640     0.480  ...          0.2345        0.3530     2\n",
              "\n",
              "[3132 rows x 9 columns]"
            ]
          },
          "metadata": {},
          "execution_count": 6
        }
      ]
    },
    {
      "cell_type": "code",
      "metadata": {
        "colab": {
          "base_uri": "https://localhost:8080/",
          "height": 424
        },
        "id": "t_5X9YsUsR_L",
        "outputId": "a37ff003-4eb6-4f01-f456-bacac9a6a01a"
      },
      "source": [
        "data_test.round(4)"
      ],
      "execution_count": 7,
      "outputs": [
        {
          "output_type": "execute_result",
          "data": {
            "text/html": [
              "<div>\n",
              "<style scoped>\n",
              "    .dataframe tbody tr th:only-of-type {\n",
              "        vertical-align: middle;\n",
              "    }\n",
              "\n",
              "    .dataframe tbody tr th {\n",
              "        vertical-align: top;\n",
              "    }\n",
              "\n",
              "    .dataframe thead th {\n",
              "        text-align: right;\n",
              "    }\n",
              "</style>\n",
              "<table border=\"1\" class=\"dataframe\">\n",
              "  <thead>\n",
              "    <tr style=\"text-align: right;\">\n",
              "      <th></th>\n",
              "      <th>sex</th>\n",
              "      <th>length</th>\n",
              "      <th>diameter</th>\n",
              "      <th>height</th>\n",
              "      <th>whole_weight</th>\n",
              "      <th>shucked_weight</th>\n",
              "      <th>viscera_weight</th>\n",
              "      <th>shell_weight</th>\n",
              "    </tr>\n",
              "  </thead>\n",
              "  <tbody>\n",
              "    <tr>\n",
              "      <th>0</th>\n",
              "      <td>M</td>\n",
              "      <td>0.600</td>\n",
              "      <td>0.480</td>\n",
              "      <td>0.175</td>\n",
              "      <td>1.2290</td>\n",
              "      <td>0.4125</td>\n",
              "      <td>0.2735</td>\n",
              "      <td>0.4150</td>\n",
              "    </tr>\n",
              "    <tr>\n",
              "      <th>1</th>\n",
              "      <td>F</td>\n",
              "      <td>0.545</td>\n",
              "      <td>0.385</td>\n",
              "      <td>0.150</td>\n",
              "      <td>1.1185</td>\n",
              "      <td>0.5425</td>\n",
              "      <td>0.2445</td>\n",
              "      <td>0.2845</td>\n",
              "    </tr>\n",
              "    <tr>\n",
              "      <th>2</th>\n",
              "      <td>F</td>\n",
              "      <td>0.645</td>\n",
              "      <td>0.520</td>\n",
              "      <td>0.180</td>\n",
              "      <td>1.2850</td>\n",
              "      <td>0.5775</td>\n",
              "      <td>0.3520</td>\n",
              "      <td>0.3170</td>\n",
              "    </tr>\n",
              "    <tr>\n",
              "      <th>3</th>\n",
              "      <td>M</td>\n",
              "      <td>0.640</td>\n",
              "      <td>0.510</td>\n",
              "      <td>0.170</td>\n",
              "      <td>1.3715</td>\n",
              "      <td>0.5670</td>\n",
              "      <td>0.3070</td>\n",
              "      <td>0.4090</td>\n",
              "    </tr>\n",
              "    <tr>\n",
              "      <th>4</th>\n",
              "      <td>F</td>\n",
              "      <td>0.655</td>\n",
              "      <td>0.540</td>\n",
              "      <td>0.215</td>\n",
              "      <td>1.5555</td>\n",
              "      <td>0.6950</td>\n",
              "      <td>0.2960</td>\n",
              "      <td>0.4440</td>\n",
              "    </tr>\n",
              "    <tr>\n",
              "      <th>...</th>\n",
              "      <td>...</td>\n",
              "      <td>...</td>\n",
              "      <td>...</td>\n",
              "      <td>...</td>\n",
              "      <td>...</td>\n",
              "      <td>...</td>\n",
              "      <td>...</td>\n",
              "      <td>...</td>\n",
              "    </tr>\n",
              "    <tr>\n",
              "      <th>1040</th>\n",
              "      <td>I</td>\n",
              "      <td>0.430</td>\n",
              "      <td>0.350</td>\n",
              "      <td>0.105</td>\n",
              "      <td>0.3660</td>\n",
              "      <td>0.1705</td>\n",
              "      <td>0.0855</td>\n",
              "      <td>0.1100</td>\n",
              "    </tr>\n",
              "    <tr>\n",
              "      <th>1041</th>\n",
              "      <td>F</td>\n",
              "      <td>0.475</td>\n",
              "      <td>0.360</td>\n",
              "      <td>0.125</td>\n",
              "      <td>0.4470</td>\n",
              "      <td>0.1695</td>\n",
              "      <td>0.0810</td>\n",
              "      <td>0.1400</td>\n",
              "    </tr>\n",
              "    <tr>\n",
              "      <th>1042</th>\n",
              "      <td>F</td>\n",
              "      <td>0.500</td>\n",
              "      <td>0.405</td>\n",
              "      <td>0.150</td>\n",
              "      <td>0.5965</td>\n",
              "      <td>0.2530</td>\n",
              "      <td>0.1260</td>\n",
              "      <td>0.1850</td>\n",
              "    </tr>\n",
              "    <tr>\n",
              "      <th>1043</th>\n",
              "      <td>I</td>\n",
              "      <td>0.380</td>\n",
              "      <td>0.275</td>\n",
              "      <td>0.095</td>\n",
              "      <td>0.2425</td>\n",
              "      <td>0.1060</td>\n",
              "      <td>0.0485</td>\n",
              "      <td>0.2100</td>\n",
              "    </tr>\n",
              "    <tr>\n",
              "      <th>1044</th>\n",
              "      <td>M</td>\n",
              "      <td>0.590</td>\n",
              "      <td>0.475</td>\n",
              "      <td>0.165</td>\n",
              "      <td>1.0770</td>\n",
              "      <td>0.4545</td>\n",
              "      <td>0.2440</td>\n",
              "      <td>0.3095</td>\n",
              "    </tr>\n",
              "  </tbody>\n",
              "</table>\n",
              "<p>1045 rows × 8 columns</p>\n",
              "</div>"
            ],
            "text/plain": [
              "     sex  length  diameter  ...  shucked_weight  viscera_weight  shell_weight\n",
              "0      M   0.600     0.480  ...          0.4125          0.2735        0.4150\n",
              "1      F   0.545     0.385  ...          0.5425          0.2445        0.2845\n",
              "2      F   0.645     0.520  ...          0.5775          0.3520        0.3170\n",
              "3      M   0.640     0.510  ...          0.5670          0.3070        0.4090\n",
              "4      F   0.655     0.540  ...          0.6950          0.2960        0.4440\n",
              "...   ..     ...       ...  ...             ...             ...           ...\n",
              "1040   I   0.430     0.350  ...          0.1705          0.0855        0.1100\n",
              "1041   F   0.475     0.360  ...          0.1695          0.0810        0.1400\n",
              "1042   F   0.500     0.405  ...          0.2530          0.1260        0.1850\n",
              "1043   I   0.380     0.275  ...          0.1060          0.0485        0.2100\n",
              "1044   M   0.590     0.475  ...          0.4545          0.2440        0.3095\n",
              "\n",
              "[1045 rows x 8 columns]"
            ]
          },
          "metadata": {},
          "execution_count": 7
        }
      ]
    },
    {
      "cell_type": "markdown",
      "metadata": {
        "id": "S3wa8JLVwOIi"
      },
      "source": [
        "### Convertendo string para inteiro\n"
      ]
    },
    {
      "cell_type": "code",
      "metadata": {
        "id": "nVtF3XIsv2Go"
      },
      "source": [
        "def string2int(sex):\n",
        "  if sex == 'M':\n",
        "    sex = 0\n",
        "  elif sex == 'F':\n",
        "    sex = 1\n",
        "  else:\n",
        "    sex = 2\n",
        "  return sex\n",
        "\n",
        "data_train['sex'] = data_train.sex.apply(string2int)\n",
        "data_test['sex'] = data_test.sex.apply(string2int)"
      ],
      "execution_count": 16,
      "outputs": []
    },
    {
      "cell_type": "code",
      "metadata": {
        "colab": {
          "base_uri": "https://localhost:8080/",
          "height": 206
        },
        "id": "MgtNhKAmw4hq",
        "outputId": "07fd9d10-4341-4585-b30e-42a71bc5f74f"
      },
      "source": [
        "data_test.head()"
      ],
      "execution_count": 19,
      "outputs": [
        {
          "output_type": "execute_result",
          "data": {
            "text/html": [
              "<div>\n",
              "<style scoped>\n",
              "    .dataframe tbody tr th:only-of-type {\n",
              "        vertical-align: middle;\n",
              "    }\n",
              "\n",
              "    .dataframe tbody tr th {\n",
              "        vertical-align: top;\n",
              "    }\n",
              "\n",
              "    .dataframe thead th {\n",
              "        text-align: right;\n",
              "    }\n",
              "</style>\n",
              "<table border=\"1\" class=\"dataframe\">\n",
              "  <thead>\n",
              "    <tr style=\"text-align: right;\">\n",
              "      <th></th>\n",
              "      <th>sex</th>\n",
              "      <th>length</th>\n",
              "      <th>diameter</th>\n",
              "      <th>height</th>\n",
              "      <th>whole_weight</th>\n",
              "      <th>shucked_weight</th>\n",
              "      <th>viscera_weight</th>\n",
              "      <th>shell_weight</th>\n",
              "    </tr>\n",
              "  </thead>\n",
              "  <tbody>\n",
              "    <tr>\n",
              "      <th>0</th>\n",
              "      <td>0</td>\n",
              "      <td>0.600</td>\n",
              "      <td>0.480</td>\n",
              "      <td>0.175</td>\n",
              "      <td>1.2290</td>\n",
              "      <td>0.4125</td>\n",
              "      <td>0.2735</td>\n",
              "      <td>0.4150</td>\n",
              "    </tr>\n",
              "    <tr>\n",
              "      <th>1</th>\n",
              "      <td>1</td>\n",
              "      <td>0.545</td>\n",
              "      <td>0.385</td>\n",
              "      <td>0.150</td>\n",
              "      <td>1.1185</td>\n",
              "      <td>0.5425</td>\n",
              "      <td>0.2445</td>\n",
              "      <td>0.2845</td>\n",
              "    </tr>\n",
              "    <tr>\n",
              "      <th>2</th>\n",
              "      <td>1</td>\n",
              "      <td>0.645</td>\n",
              "      <td>0.520</td>\n",
              "      <td>0.180</td>\n",
              "      <td>1.2850</td>\n",
              "      <td>0.5775</td>\n",
              "      <td>0.3520</td>\n",
              "      <td>0.3170</td>\n",
              "    </tr>\n",
              "    <tr>\n",
              "      <th>3</th>\n",
              "      <td>0</td>\n",
              "      <td>0.640</td>\n",
              "      <td>0.510</td>\n",
              "      <td>0.170</td>\n",
              "      <td>1.3715</td>\n",
              "      <td>0.5670</td>\n",
              "      <td>0.3070</td>\n",
              "      <td>0.4090</td>\n",
              "    </tr>\n",
              "    <tr>\n",
              "      <th>4</th>\n",
              "      <td>1</td>\n",
              "      <td>0.655</td>\n",
              "      <td>0.540</td>\n",
              "      <td>0.215</td>\n",
              "      <td>1.5555</td>\n",
              "      <td>0.6950</td>\n",
              "      <td>0.2960</td>\n",
              "      <td>0.4440</td>\n",
              "    </tr>\n",
              "  </tbody>\n",
              "</table>\n",
              "</div>"
            ],
            "text/plain": [
              "   sex  length  diameter  ...  shucked_weight  viscera_weight  shell_weight\n",
              "0    0   0.600     0.480  ...          0.4125          0.2735        0.4150\n",
              "1    1   0.545     0.385  ...          0.5425          0.2445        0.2845\n",
              "2    1   0.645     0.520  ...          0.5775          0.3520        0.3170\n",
              "3    0   0.640     0.510  ...          0.5670          0.3070        0.4090\n",
              "4    1   0.655     0.540  ...          0.6950          0.2960        0.4440\n",
              "\n",
              "[5 rows x 8 columns]"
            ]
          },
          "metadata": {},
          "execution_count": 19
        }
      ]
    },
    {
      "cell_type": "code",
      "metadata": {
        "colab": {
          "base_uri": "https://localhost:8080/",
          "height": 140
        },
        "id": "DqeyQo0roD93",
        "outputId": "bb671b2d-06c5-4922-b4f6-38798b4044ea"
      },
      "source": [
        "##alterar p servidor das coisas de validação\n",
        "'''\n",
        "print(' - Aplicando modelo e enviando para o servidor')\n",
        "abalone_app = pd.read_csv('https://github.com/audreyemmely/mlclass/blob/master/03_Validation/abalone_app.csv')\n",
        "data_app = data_app[feature_cols]\n",
        "y_pred = neigh.predict(data_app)\n",
        "\n",
        "# Enviando previsões realizadas com o modelo para o servidor\n",
        "URL = \"https://aydanomachado.com/mlclass/03_Validation.php\"\n",
        "\n",
        "#TODO Substituir pela sua chave aqui\n",
        "DEV_KEY = \"shantay u stay\"\n",
        "\n",
        "# json para ser enviado para o servidor\n",
        "data = {'dev_key':DEV_KEY,\n",
        "        'predictions':pd.Series(y_pred).to_json(orient='values')}\n",
        "\n",
        "# Enviando requisição e salvando o objeto resposta\n",
        "r = requests.post(url = URL, data = data)\n",
        "\n",
        "# Extraindo e imprimindo o texto da resposta\n",
        "pastebin_url = r.text\n",
        "print(\" - Resposta do servidor:\\n\", r.text, \"\\n\")\n",
        "'''"
      ],
      "execution_count": 4,
      "outputs": [
        {
          "output_type": "execute_result",
          "data": {
            "application/vnd.google.colaboratory.intrinsic+json": {
              "type": "string"
            },
            "text/plain": [
              "'\\nprint(\\' - Aplicando modelo e enviando para o servidor\\')\\nabalone_app = pd.read_csv(\\'https://github.com/audreyemmely/mlclass/blob/master/03_Validation/abalone_app.csv\\')\\ndata_app = data_app[feature_cols]\\ny_pred = neigh.predict(data_app)\\n\\n# Enviando previsões realizadas com o modelo para o servidor\\nURL = \"https://aydanomachado.com/mlclass/03_Validation.php\"\\n\\n#TODO Substituir pela sua chave aqui\\nDEV_KEY = \"shantay u stay\"\\n\\n# json para ser enviado para o servidor\\ndata = {\\'dev_key\\':DEV_KEY,\\n        \\'predictions\\':pd.Series(y_pred).to_json(orient=\\'values\\')}\\n\\n# Enviando requisição e salvando o objeto resposta\\nr = requests.post(url = URL, data = data)\\n\\n# Extraindo e imprimindo o texto da resposta\\npastebin_url = r.text\\nprint(\" - Resposta do servidor:\\n\", r.text, \"\\n\")\\n'"
            ]
          },
          "metadata": {},
          "execution_count": 4
        }
      ]
    }
  ]
}