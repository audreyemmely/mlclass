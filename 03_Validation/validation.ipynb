{
  "nbformat": 4,
  "nbformat_minor": 0,
  "metadata": {
    "colab": {
      "name": "validation.ipynb",
      "provenance": [],
      "collapsed_sections": [],
      "toc_visible": true
    },
    "kernelspec": {
      "name": "python3",
      "display_name": "Python 3"
    },
    "language_info": {
      "name": "python"
    }
  },
  "cells": [
    {
      "cell_type": "markdown",
      "metadata": {
        "id": "0ItwFwbqs2jh"
      },
      "source": [
        "## Importando os documentos e as bibliotecas necessárias"
      ]
    },
    {
      "cell_type": "code",
      "metadata": {
        "id": "KwqaZsbxq6Ca"
      },
      "source": [
        "#from google.colab import files\n",
        "#uploaded = files.upload()\n",
        "#upando os arquivos em xlsx"
      ],
      "execution_count": 1,
      "outputs": []
    },
    {
      "cell_type": "code",
      "metadata": {
        "id": "I_Rw9YaqpnNr"
      },
      "source": [
        "import matplotlib.pyplot as plt\n",
        "import pandas as pd\n",
        "import numpy as np\n",
        "from sklearn.model_selection import train_test_split\n",
        "from sklearn.svm import LinearSVC\n",
        "from sklearn.linear_model import LogisticRegression\n",
        "from sklearn.naive_bayes import GaussianNB\n",
        "from sklearn.ensemble import RandomForestClassifier\n",
        "from sklearn.metrics import plot_confusion_matrix, accuracy_score, precision_score, recall_score, f1_score\n",
        "import requests\n",
        "import warnings\n",
        "warnings.filterwarnings('ignore')"
      ],
      "execution_count": 2,
      "outputs": []
    },
    {
      "cell_type": "markdown",
      "metadata": {
        "id": "WyHxmEKYr6rj"
      },
      "source": [
        "## Pré-processamento dos dados\n",
        "\n"
      ]
    },
    {
      "cell_type": "code",
      "metadata": {
        "id": "pa0wp9PEn4X4"
      },
      "source": [
        "data_train = pd.read_excel('abalone_dataset.xlsx')\n",
        "data_test = pd.read_excel('abalone_app.xlsx')"
      ],
      "execution_count": 3,
      "outputs": []
    },
    {
      "cell_type": "code",
      "metadata": {
        "colab": {
          "base_uri": "https://localhost:8080/",
          "height": 206
        },
        "id": "sLi-jLvms-xR",
        "outputId": "15b70844-0222-480a-e7c6-8b5f3331168b"
      },
      "source": [
        "data_train.head()"
      ],
      "execution_count": 4,
      "outputs": [
        {
          "output_type": "execute_result",
          "data": {
            "text/html": [
              "<div>\n",
              "<style scoped>\n",
              "    .dataframe tbody tr th:only-of-type {\n",
              "        vertical-align: middle;\n",
              "    }\n",
              "\n",
              "    .dataframe tbody tr th {\n",
              "        vertical-align: top;\n",
              "    }\n",
              "\n",
              "    .dataframe thead th {\n",
              "        text-align: right;\n",
              "    }\n",
              "</style>\n",
              "<table border=\"1\" class=\"dataframe\">\n",
              "  <thead>\n",
              "    <tr style=\"text-align: right;\">\n",
              "      <th></th>\n",
              "      <th>sex</th>\n",
              "      <th>length</th>\n",
              "      <th>diameter</th>\n",
              "      <th>height</th>\n",
              "      <th>whole_weight</th>\n",
              "      <th>shucked_weight</th>\n",
              "      <th>viscera_weight</th>\n",
              "      <th>shell_weight</th>\n",
              "      <th>type</th>\n",
              "    </tr>\n",
              "  </thead>\n",
              "  <tbody>\n",
              "    <tr>\n",
              "      <th>0</th>\n",
              "      <td>M</td>\n",
              "      <td>0.535</td>\n",
              "      <td>0.420</td>\n",
              "      <td>0.150</td>\n",
              "      <td>0.6995</td>\n",
              "      <td>0.2575</td>\n",
              "      <td>0.1530</td>\n",
              "      <td>0.2400</td>\n",
              "      <td>3</td>\n",
              "    </tr>\n",
              "    <tr>\n",
              "      <th>1</th>\n",
              "      <td>I</td>\n",
              "      <td>0.510</td>\n",
              "      <td>0.380</td>\n",
              "      <td>0.115</td>\n",
              "      <td>0.5155</td>\n",
              "      <td>0.2150</td>\n",
              "      <td>0.1135</td>\n",
              "      <td>0.1660</td>\n",
              "      <td>1</td>\n",
              "    </tr>\n",
              "    <tr>\n",
              "      <th>2</th>\n",
              "      <td>I</td>\n",
              "      <td>0.185</td>\n",
              "      <td>0.130</td>\n",
              "      <td>0.045</td>\n",
              "      <td>0.0290</td>\n",
              "      <td>0.0120</td>\n",
              "      <td>0.0075</td>\n",
              "      <td>0.0095</td>\n",
              "      <td>1</td>\n",
              "    </tr>\n",
              "    <tr>\n",
              "      <th>3</th>\n",
              "      <td>M</td>\n",
              "      <td>0.550</td>\n",
              "      <td>0.450</td>\n",
              "      <td>0.170</td>\n",
              "      <td>0.8100</td>\n",
              "      <td>0.3170</td>\n",
              "      <td>0.1570</td>\n",
              "      <td>0.2200</td>\n",
              "      <td>3</td>\n",
              "    </tr>\n",
              "    <tr>\n",
              "      <th>4</th>\n",
              "      <td>I</td>\n",
              "      <td>0.535</td>\n",
              "      <td>0.415</td>\n",
              "      <td>0.150</td>\n",
              "      <td>0.5765</td>\n",
              "      <td>0.3595</td>\n",
              "      <td>0.1350</td>\n",
              "      <td>0.2250</td>\n",
              "      <td>1</td>\n",
              "    </tr>\n",
              "  </tbody>\n",
              "</table>\n",
              "</div>"
            ],
            "text/plain": [
              "  sex  length  diameter  ...  viscera_weight  shell_weight  type\n",
              "0   M   0.535     0.420  ...          0.1530        0.2400     3\n",
              "1   I   0.510     0.380  ...          0.1135        0.1660     1\n",
              "2   I   0.185     0.130  ...          0.0075        0.0095     1\n",
              "3   M   0.550     0.450  ...          0.1570        0.2200     3\n",
              "4   I   0.535     0.415  ...          0.1350        0.2250     1\n",
              "\n",
              "[5 rows x 9 columns]"
            ]
          },
          "metadata": {},
          "execution_count": 4
        }
      ]
    },
    {
      "cell_type": "code",
      "metadata": {
        "colab": {
          "base_uri": "https://localhost:8080/",
          "height": 206
        },
        "id": "JEowhnZdtBv7",
        "outputId": "87e39886-8028-4061-f1c8-2f7dd7b96290"
      },
      "source": [
        "data_test.head()"
      ],
      "execution_count": 5,
      "outputs": [
        {
          "output_type": "execute_result",
          "data": {
            "text/html": [
              "<div>\n",
              "<style scoped>\n",
              "    .dataframe tbody tr th:only-of-type {\n",
              "        vertical-align: middle;\n",
              "    }\n",
              "\n",
              "    .dataframe tbody tr th {\n",
              "        vertical-align: top;\n",
              "    }\n",
              "\n",
              "    .dataframe thead th {\n",
              "        text-align: right;\n",
              "    }\n",
              "</style>\n",
              "<table border=\"1\" class=\"dataframe\">\n",
              "  <thead>\n",
              "    <tr style=\"text-align: right;\">\n",
              "      <th></th>\n",
              "      <th>sex</th>\n",
              "      <th>length</th>\n",
              "      <th>diameter</th>\n",
              "      <th>height</th>\n",
              "      <th>whole_weight</th>\n",
              "      <th>shucked_weight</th>\n",
              "      <th>viscera_weight</th>\n",
              "      <th>shell_weight</th>\n",
              "    </tr>\n",
              "  </thead>\n",
              "  <tbody>\n",
              "    <tr>\n",
              "      <th>0</th>\n",
              "      <td>M</td>\n",
              "      <td>0.600</td>\n",
              "      <td>0.480</td>\n",
              "      <td>0.175</td>\n",
              "      <td>1.2290</td>\n",
              "      <td>0.4125</td>\n",
              "      <td>0.2735</td>\n",
              "      <td>0.4150</td>\n",
              "    </tr>\n",
              "    <tr>\n",
              "      <th>1</th>\n",
              "      <td>F</td>\n",
              "      <td>0.545</td>\n",
              "      <td>0.385</td>\n",
              "      <td>0.150</td>\n",
              "      <td>1.1185</td>\n",
              "      <td>0.5425</td>\n",
              "      <td>0.2445</td>\n",
              "      <td>0.2845</td>\n",
              "    </tr>\n",
              "    <tr>\n",
              "      <th>2</th>\n",
              "      <td>F</td>\n",
              "      <td>0.645</td>\n",
              "      <td>0.520</td>\n",
              "      <td>0.180</td>\n",
              "      <td>1.2850</td>\n",
              "      <td>0.5775</td>\n",
              "      <td>0.3520</td>\n",
              "      <td>0.3170</td>\n",
              "    </tr>\n",
              "    <tr>\n",
              "      <th>3</th>\n",
              "      <td>M</td>\n",
              "      <td>0.640</td>\n",
              "      <td>0.510</td>\n",
              "      <td>0.170</td>\n",
              "      <td>1.3715</td>\n",
              "      <td>0.5670</td>\n",
              "      <td>0.3070</td>\n",
              "      <td>0.4090</td>\n",
              "    </tr>\n",
              "    <tr>\n",
              "      <th>4</th>\n",
              "      <td>F</td>\n",
              "      <td>0.655</td>\n",
              "      <td>0.540</td>\n",
              "      <td>0.215</td>\n",
              "      <td>1.5555</td>\n",
              "      <td>0.6950</td>\n",
              "      <td>0.2960</td>\n",
              "      <td>0.4440</td>\n",
              "    </tr>\n",
              "  </tbody>\n",
              "</table>\n",
              "</div>"
            ],
            "text/plain": [
              "  sex  length  diameter  ...  shucked_weight  viscera_weight  shell_weight\n",
              "0   M   0.600     0.480  ...          0.4125          0.2735        0.4150\n",
              "1   F   0.545     0.385  ...          0.5425          0.2445        0.2845\n",
              "2   F   0.645     0.520  ...          0.5775          0.3520        0.3170\n",
              "3   M   0.640     0.510  ...          0.5670          0.3070        0.4090\n",
              "4   F   0.655     0.540  ...          0.6950          0.2960        0.4440\n",
              "\n",
              "[5 rows x 8 columns]"
            ]
          },
          "metadata": {},
          "execution_count": 5
        }
      ]
    },
    {
      "cell_type": "code",
      "metadata": {
        "colab": {
          "base_uri": "https://localhost:8080/"
        },
        "id": "B3HTVT9FtFYn",
        "outputId": "342c5de7-f7e6-400a-c03f-e60a9d06b084"
      },
      "source": [
        "data_train.sex.unique()"
      ],
      "execution_count": 6,
      "outputs": [
        {
          "output_type": "execute_result",
          "data": {
            "text/plain": [
              "array(['M', 'I', 'F'], dtype=object)"
            ]
          },
          "metadata": {},
          "execution_count": 6
        }
      ]
    },
    {
      "cell_type": "code",
      "metadata": {
        "colab": {
          "base_uri": "https://localhost:8080/"
        },
        "id": "KMOu0hK_tLU8",
        "outputId": "18bd8ff5-fd77-4495-93ea-cbfd6f829958"
      },
      "source": [
        "data_test.sex.unique()"
      ],
      "execution_count": 7,
      "outputs": [
        {
          "output_type": "execute_result",
          "data": {
            "text/plain": [
              "array(['M', 'F', 'I'], dtype=object)"
            ]
          },
          "metadata": {},
          "execution_count": 7
        }
      ]
    },
    {
      "cell_type": "markdown",
      "metadata": {
        "id": "0HRku5v0saUX"
      },
      "source": [
        "### Arredondando os valores\n",
        "\n"
      ]
    },
    {
      "cell_type": "code",
      "metadata": {
        "colab": {
          "base_uri": "https://localhost:8080/",
          "height": 424
        },
        "id": "rGg7RBECsKi3",
        "outputId": "91c5c5ea-d620-466e-a2d7-e4ba8bc37aa8"
      },
      "source": [
        "data_train.round(4)"
      ],
      "execution_count": 8,
      "outputs": [
        {
          "output_type": "execute_result",
          "data": {
            "text/html": [
              "<div>\n",
              "<style scoped>\n",
              "    .dataframe tbody tr th:only-of-type {\n",
              "        vertical-align: middle;\n",
              "    }\n",
              "\n",
              "    .dataframe tbody tr th {\n",
              "        vertical-align: top;\n",
              "    }\n",
              "\n",
              "    .dataframe thead th {\n",
              "        text-align: right;\n",
              "    }\n",
              "</style>\n",
              "<table border=\"1\" class=\"dataframe\">\n",
              "  <thead>\n",
              "    <tr style=\"text-align: right;\">\n",
              "      <th></th>\n",
              "      <th>sex</th>\n",
              "      <th>length</th>\n",
              "      <th>diameter</th>\n",
              "      <th>height</th>\n",
              "      <th>whole_weight</th>\n",
              "      <th>shucked_weight</th>\n",
              "      <th>viscera_weight</th>\n",
              "      <th>shell_weight</th>\n",
              "      <th>type</th>\n",
              "    </tr>\n",
              "  </thead>\n",
              "  <tbody>\n",
              "    <tr>\n",
              "      <th>0</th>\n",
              "      <td>M</td>\n",
              "      <td>0.535</td>\n",
              "      <td>0.420</td>\n",
              "      <td>0.150</td>\n",
              "      <td>0.6995</td>\n",
              "      <td>0.2575</td>\n",
              "      <td>0.1530</td>\n",
              "      <td>0.2400</td>\n",
              "      <td>3</td>\n",
              "    </tr>\n",
              "    <tr>\n",
              "      <th>1</th>\n",
              "      <td>I</td>\n",
              "      <td>0.510</td>\n",
              "      <td>0.380</td>\n",
              "      <td>0.115</td>\n",
              "      <td>0.5155</td>\n",
              "      <td>0.2150</td>\n",
              "      <td>0.1135</td>\n",
              "      <td>0.1660</td>\n",
              "      <td>1</td>\n",
              "    </tr>\n",
              "    <tr>\n",
              "      <th>2</th>\n",
              "      <td>I</td>\n",
              "      <td>0.185</td>\n",
              "      <td>0.130</td>\n",
              "      <td>0.045</td>\n",
              "      <td>0.0290</td>\n",
              "      <td>0.0120</td>\n",
              "      <td>0.0075</td>\n",
              "      <td>0.0095</td>\n",
              "      <td>1</td>\n",
              "    </tr>\n",
              "    <tr>\n",
              "      <th>3</th>\n",
              "      <td>M</td>\n",
              "      <td>0.550</td>\n",
              "      <td>0.450</td>\n",
              "      <td>0.170</td>\n",
              "      <td>0.8100</td>\n",
              "      <td>0.3170</td>\n",
              "      <td>0.1570</td>\n",
              "      <td>0.2200</td>\n",
              "      <td>3</td>\n",
              "    </tr>\n",
              "    <tr>\n",
              "      <th>4</th>\n",
              "      <td>I</td>\n",
              "      <td>0.535</td>\n",
              "      <td>0.415</td>\n",
              "      <td>0.150</td>\n",
              "      <td>0.5765</td>\n",
              "      <td>0.3595</td>\n",
              "      <td>0.1350</td>\n",
              "      <td>0.2250</td>\n",
              "      <td>1</td>\n",
              "    </tr>\n",
              "    <tr>\n",
              "      <th>...</th>\n",
              "      <td>...</td>\n",
              "      <td>...</td>\n",
              "      <td>...</td>\n",
              "      <td>...</td>\n",
              "      <td>...</td>\n",
              "      <td>...</td>\n",
              "      <td>...</td>\n",
              "      <td>...</td>\n",
              "      <td>...</td>\n",
              "    </tr>\n",
              "    <tr>\n",
              "      <th>3127</th>\n",
              "      <td>F</td>\n",
              "      <td>0.545</td>\n",
              "      <td>0.405</td>\n",
              "      <td>0.175</td>\n",
              "      <td>0.9800</td>\n",
              "      <td>0.2585</td>\n",
              "      <td>0.2070</td>\n",
              "      <td>0.3800</td>\n",
              "      <td>3</td>\n",
              "    </tr>\n",
              "    <tr>\n",
              "      <th>3128</th>\n",
              "      <td>M</td>\n",
              "      <td>0.655</td>\n",
              "      <td>0.525</td>\n",
              "      <td>0.185</td>\n",
              "      <td>1.2590</td>\n",
              "      <td>0.4870</td>\n",
              "      <td>0.2215</td>\n",
              "      <td>0.4450</td>\n",
              "      <td>3</td>\n",
              "    </tr>\n",
              "    <tr>\n",
              "      <th>3129</th>\n",
              "      <td>I</td>\n",
              "      <td>0.450</td>\n",
              "      <td>0.340</td>\n",
              "      <td>0.120</td>\n",
              "      <td>0.4925</td>\n",
              "      <td>0.2410</td>\n",
              "      <td>0.1075</td>\n",
              "      <td>0.1200</td>\n",
              "      <td>1</td>\n",
              "    </tr>\n",
              "    <tr>\n",
              "      <th>3130</th>\n",
              "      <td>F</td>\n",
              "      <td>0.520</td>\n",
              "      <td>0.410</td>\n",
              "      <td>0.155</td>\n",
              "      <td>0.7270</td>\n",
              "      <td>0.2910</td>\n",
              "      <td>0.1835</td>\n",
              "      <td>0.2350</td>\n",
              "      <td>3</td>\n",
              "    </tr>\n",
              "    <tr>\n",
              "      <th>3131</th>\n",
              "      <td>F</td>\n",
              "      <td>0.640</td>\n",
              "      <td>0.480</td>\n",
              "      <td>0.195</td>\n",
              "      <td>1.1435</td>\n",
              "      <td>0.4915</td>\n",
              "      <td>0.2345</td>\n",
              "      <td>0.3530</td>\n",
              "      <td>2</td>\n",
              "    </tr>\n",
              "  </tbody>\n",
              "</table>\n",
              "<p>3132 rows × 9 columns</p>\n",
              "</div>"
            ],
            "text/plain": [
              "     sex  length  diameter  ...  viscera_weight  shell_weight  type\n",
              "0      M   0.535     0.420  ...          0.1530        0.2400     3\n",
              "1      I   0.510     0.380  ...          0.1135        0.1660     1\n",
              "2      I   0.185     0.130  ...          0.0075        0.0095     1\n",
              "3      M   0.550     0.450  ...          0.1570        0.2200     3\n",
              "4      I   0.535     0.415  ...          0.1350        0.2250     1\n",
              "...   ..     ...       ...  ...             ...           ...   ...\n",
              "3127   F   0.545     0.405  ...          0.2070        0.3800     3\n",
              "3128   M   0.655     0.525  ...          0.2215        0.4450     3\n",
              "3129   I   0.450     0.340  ...          0.1075        0.1200     1\n",
              "3130   F   0.520     0.410  ...          0.1835        0.2350     3\n",
              "3131   F   0.640     0.480  ...          0.2345        0.3530     2\n",
              "\n",
              "[3132 rows x 9 columns]"
            ]
          },
          "metadata": {},
          "execution_count": 8
        }
      ]
    },
    {
      "cell_type": "code",
      "metadata": {
        "colab": {
          "base_uri": "https://localhost:8080/",
          "height": 424
        },
        "id": "t_5X9YsUsR_L",
        "outputId": "5442fed5-404f-42d2-a4ff-556a344bb4a5"
      },
      "source": [
        "data_test.round(4)"
      ],
      "execution_count": 9,
      "outputs": [
        {
          "output_type": "execute_result",
          "data": {
            "text/html": [
              "<div>\n",
              "<style scoped>\n",
              "    .dataframe tbody tr th:only-of-type {\n",
              "        vertical-align: middle;\n",
              "    }\n",
              "\n",
              "    .dataframe tbody tr th {\n",
              "        vertical-align: top;\n",
              "    }\n",
              "\n",
              "    .dataframe thead th {\n",
              "        text-align: right;\n",
              "    }\n",
              "</style>\n",
              "<table border=\"1\" class=\"dataframe\">\n",
              "  <thead>\n",
              "    <tr style=\"text-align: right;\">\n",
              "      <th></th>\n",
              "      <th>sex</th>\n",
              "      <th>length</th>\n",
              "      <th>diameter</th>\n",
              "      <th>height</th>\n",
              "      <th>whole_weight</th>\n",
              "      <th>shucked_weight</th>\n",
              "      <th>viscera_weight</th>\n",
              "      <th>shell_weight</th>\n",
              "    </tr>\n",
              "  </thead>\n",
              "  <tbody>\n",
              "    <tr>\n",
              "      <th>0</th>\n",
              "      <td>M</td>\n",
              "      <td>0.600</td>\n",
              "      <td>0.480</td>\n",
              "      <td>0.175</td>\n",
              "      <td>1.2290</td>\n",
              "      <td>0.4125</td>\n",
              "      <td>0.2735</td>\n",
              "      <td>0.4150</td>\n",
              "    </tr>\n",
              "    <tr>\n",
              "      <th>1</th>\n",
              "      <td>F</td>\n",
              "      <td>0.545</td>\n",
              "      <td>0.385</td>\n",
              "      <td>0.150</td>\n",
              "      <td>1.1185</td>\n",
              "      <td>0.5425</td>\n",
              "      <td>0.2445</td>\n",
              "      <td>0.2845</td>\n",
              "    </tr>\n",
              "    <tr>\n",
              "      <th>2</th>\n",
              "      <td>F</td>\n",
              "      <td>0.645</td>\n",
              "      <td>0.520</td>\n",
              "      <td>0.180</td>\n",
              "      <td>1.2850</td>\n",
              "      <td>0.5775</td>\n",
              "      <td>0.3520</td>\n",
              "      <td>0.3170</td>\n",
              "    </tr>\n",
              "    <tr>\n",
              "      <th>3</th>\n",
              "      <td>M</td>\n",
              "      <td>0.640</td>\n",
              "      <td>0.510</td>\n",
              "      <td>0.170</td>\n",
              "      <td>1.3715</td>\n",
              "      <td>0.5670</td>\n",
              "      <td>0.3070</td>\n",
              "      <td>0.4090</td>\n",
              "    </tr>\n",
              "    <tr>\n",
              "      <th>4</th>\n",
              "      <td>F</td>\n",
              "      <td>0.655</td>\n",
              "      <td>0.540</td>\n",
              "      <td>0.215</td>\n",
              "      <td>1.5555</td>\n",
              "      <td>0.6950</td>\n",
              "      <td>0.2960</td>\n",
              "      <td>0.4440</td>\n",
              "    </tr>\n",
              "    <tr>\n",
              "      <th>...</th>\n",
              "      <td>...</td>\n",
              "      <td>...</td>\n",
              "      <td>...</td>\n",
              "      <td>...</td>\n",
              "      <td>...</td>\n",
              "      <td>...</td>\n",
              "      <td>...</td>\n",
              "      <td>...</td>\n",
              "    </tr>\n",
              "    <tr>\n",
              "      <th>1040</th>\n",
              "      <td>I</td>\n",
              "      <td>0.430</td>\n",
              "      <td>0.350</td>\n",
              "      <td>0.105</td>\n",
              "      <td>0.3660</td>\n",
              "      <td>0.1705</td>\n",
              "      <td>0.0855</td>\n",
              "      <td>0.1100</td>\n",
              "    </tr>\n",
              "    <tr>\n",
              "      <th>1041</th>\n",
              "      <td>F</td>\n",
              "      <td>0.475</td>\n",
              "      <td>0.360</td>\n",
              "      <td>0.125</td>\n",
              "      <td>0.4470</td>\n",
              "      <td>0.1695</td>\n",
              "      <td>0.0810</td>\n",
              "      <td>0.1400</td>\n",
              "    </tr>\n",
              "    <tr>\n",
              "      <th>1042</th>\n",
              "      <td>F</td>\n",
              "      <td>0.500</td>\n",
              "      <td>0.405</td>\n",
              "      <td>0.150</td>\n",
              "      <td>0.5965</td>\n",
              "      <td>0.2530</td>\n",
              "      <td>0.1260</td>\n",
              "      <td>0.1850</td>\n",
              "    </tr>\n",
              "    <tr>\n",
              "      <th>1043</th>\n",
              "      <td>I</td>\n",
              "      <td>0.380</td>\n",
              "      <td>0.275</td>\n",
              "      <td>0.095</td>\n",
              "      <td>0.2425</td>\n",
              "      <td>0.1060</td>\n",
              "      <td>0.0485</td>\n",
              "      <td>0.2100</td>\n",
              "    </tr>\n",
              "    <tr>\n",
              "      <th>1044</th>\n",
              "      <td>M</td>\n",
              "      <td>0.590</td>\n",
              "      <td>0.475</td>\n",
              "      <td>0.165</td>\n",
              "      <td>1.0770</td>\n",
              "      <td>0.4545</td>\n",
              "      <td>0.2440</td>\n",
              "      <td>0.3095</td>\n",
              "    </tr>\n",
              "  </tbody>\n",
              "</table>\n",
              "<p>1045 rows × 8 columns</p>\n",
              "</div>"
            ],
            "text/plain": [
              "     sex  length  diameter  ...  shucked_weight  viscera_weight  shell_weight\n",
              "0      M   0.600     0.480  ...          0.4125          0.2735        0.4150\n",
              "1      F   0.545     0.385  ...          0.5425          0.2445        0.2845\n",
              "2      F   0.645     0.520  ...          0.5775          0.3520        0.3170\n",
              "3      M   0.640     0.510  ...          0.5670          0.3070        0.4090\n",
              "4      F   0.655     0.540  ...          0.6950          0.2960        0.4440\n",
              "...   ..     ...       ...  ...             ...             ...           ...\n",
              "1040   I   0.430     0.350  ...          0.1705          0.0855        0.1100\n",
              "1041   F   0.475     0.360  ...          0.1695          0.0810        0.1400\n",
              "1042   F   0.500     0.405  ...          0.2530          0.1260        0.1850\n",
              "1043   I   0.380     0.275  ...          0.1060          0.0485        0.2100\n",
              "1044   M   0.590     0.475  ...          0.4545          0.2440        0.3095\n",
              "\n",
              "[1045 rows x 8 columns]"
            ]
          },
          "metadata": {},
          "execution_count": 9
        }
      ]
    },
    {
      "cell_type": "markdown",
      "metadata": {
        "id": "S3wa8JLVwOIi"
      },
      "source": [
        "### Convertendo string para inteiro\n"
      ]
    },
    {
      "cell_type": "code",
      "metadata": {
        "id": "nVtF3XIsv2Go"
      },
      "source": [
        "def string2int(sex):\n",
        "  if sex == 'M':\n",
        "    sex = 0\n",
        "  elif sex == 'F':\n",
        "    sex = 1\n",
        "  else:\n",
        "    sex = 2\n",
        "  return sex\n",
        "\n",
        "data_train['sex'] = data_train.sex.apply(string2int)\n",
        "data_test['sex'] = data_test.sex.apply(string2int)"
      ],
      "execution_count": 10,
      "outputs": []
    },
    {
      "cell_type": "code",
      "metadata": {
        "id": "MgtNhKAmw4hq",
        "colab": {
          "base_uri": "https://localhost:8080/",
          "height": 206
        },
        "outputId": "aa8d0748-19de-4ed8-a447-c17e8019f547"
      },
      "source": [
        "data_test.head()"
      ],
      "execution_count": 11,
      "outputs": [
        {
          "output_type": "execute_result",
          "data": {
            "text/html": [
              "<div>\n",
              "<style scoped>\n",
              "    .dataframe tbody tr th:only-of-type {\n",
              "        vertical-align: middle;\n",
              "    }\n",
              "\n",
              "    .dataframe tbody tr th {\n",
              "        vertical-align: top;\n",
              "    }\n",
              "\n",
              "    .dataframe thead th {\n",
              "        text-align: right;\n",
              "    }\n",
              "</style>\n",
              "<table border=\"1\" class=\"dataframe\">\n",
              "  <thead>\n",
              "    <tr style=\"text-align: right;\">\n",
              "      <th></th>\n",
              "      <th>sex</th>\n",
              "      <th>length</th>\n",
              "      <th>diameter</th>\n",
              "      <th>height</th>\n",
              "      <th>whole_weight</th>\n",
              "      <th>shucked_weight</th>\n",
              "      <th>viscera_weight</th>\n",
              "      <th>shell_weight</th>\n",
              "    </tr>\n",
              "  </thead>\n",
              "  <tbody>\n",
              "    <tr>\n",
              "      <th>0</th>\n",
              "      <td>0</td>\n",
              "      <td>0.600</td>\n",
              "      <td>0.480</td>\n",
              "      <td>0.175</td>\n",
              "      <td>1.2290</td>\n",
              "      <td>0.4125</td>\n",
              "      <td>0.2735</td>\n",
              "      <td>0.4150</td>\n",
              "    </tr>\n",
              "    <tr>\n",
              "      <th>1</th>\n",
              "      <td>1</td>\n",
              "      <td>0.545</td>\n",
              "      <td>0.385</td>\n",
              "      <td>0.150</td>\n",
              "      <td>1.1185</td>\n",
              "      <td>0.5425</td>\n",
              "      <td>0.2445</td>\n",
              "      <td>0.2845</td>\n",
              "    </tr>\n",
              "    <tr>\n",
              "      <th>2</th>\n",
              "      <td>1</td>\n",
              "      <td>0.645</td>\n",
              "      <td>0.520</td>\n",
              "      <td>0.180</td>\n",
              "      <td>1.2850</td>\n",
              "      <td>0.5775</td>\n",
              "      <td>0.3520</td>\n",
              "      <td>0.3170</td>\n",
              "    </tr>\n",
              "    <tr>\n",
              "      <th>3</th>\n",
              "      <td>0</td>\n",
              "      <td>0.640</td>\n",
              "      <td>0.510</td>\n",
              "      <td>0.170</td>\n",
              "      <td>1.3715</td>\n",
              "      <td>0.5670</td>\n",
              "      <td>0.3070</td>\n",
              "      <td>0.4090</td>\n",
              "    </tr>\n",
              "    <tr>\n",
              "      <th>4</th>\n",
              "      <td>1</td>\n",
              "      <td>0.655</td>\n",
              "      <td>0.540</td>\n",
              "      <td>0.215</td>\n",
              "      <td>1.5555</td>\n",
              "      <td>0.6950</td>\n",
              "      <td>0.2960</td>\n",
              "      <td>0.4440</td>\n",
              "    </tr>\n",
              "  </tbody>\n",
              "</table>\n",
              "</div>"
            ],
            "text/plain": [
              "   sex  length  diameter  ...  shucked_weight  viscera_weight  shell_weight\n",
              "0    0   0.600     0.480  ...          0.4125          0.2735        0.4150\n",
              "1    1   0.545     0.385  ...          0.5425          0.2445        0.2845\n",
              "2    1   0.645     0.520  ...          0.5775          0.3520        0.3170\n",
              "3    0   0.640     0.510  ...          0.5670          0.3070        0.4090\n",
              "4    1   0.655     0.540  ...          0.6950          0.2960        0.4440\n",
              "\n",
              "[5 rows x 8 columns]"
            ]
          },
          "metadata": {},
          "execution_count": 11
        }
      ]
    },
    {
      "cell_type": "code",
      "metadata": {
        "id": "vzkvcyd3ghl3"
      },
      "source": [
        "feature_cols = ['sex','length', 'diameter', 'height', 'whole_weight', 'shucked_weight', 'viscera_weight','shell_weight']\n",
        "X = data_train[feature_cols]\n",
        "y = data_train.type"
      ],
      "execution_count": 12,
      "outputs": []
    },
    {
      "cell_type": "code",
      "metadata": {
        "id": "HB3bq6VZg97F"
      },
      "source": [
        "X_train, X_test, y_train, y_test = train_test_split(X, y, test_size = 0.3, random_state = 0)"
      ],
      "execution_count": 13,
      "outputs": []
    },
    {
      "cell_type": "markdown",
      "metadata": {
        "id": "5n6bxVujh180"
      },
      "source": [
        "## SVM"
      ]
    },
    {
      "cell_type": "code",
      "metadata": {
        "id": "ihr6DtomhRdG"
      },
      "source": [
        "cl_svm = LinearSVC().fit(X_train, y_train)\n",
        "y_pred_svm = cl_svm.predict(X_test)"
      ],
      "execution_count": 14,
      "outputs": []
    },
    {
      "cell_type": "code",
      "metadata": {
        "colab": {
          "base_uri": "https://localhost:8080/",
          "height": 281
        },
        "id": "ShOiIx-bkMNj",
        "outputId": "58e5a309-cbdc-4b81-e963-2c42d6d22489"
      },
      "source": [
        "plot_confusion_matrix(cl_svm, X_test, y_test)\n",
        "plt.show()"
      ],
      "execution_count": 15,
      "outputs": [
        {
          "output_type": "display_data",
          "data": {
            "image/png": "[encoded data removed]",
            "text/plain": [
              "<Figure size 432x288 with 2 Axes>"
            ]
          },
          "metadata": {
            "needs_background": "light"
          }
        }
      ]
    },
    {
      "cell_type": "code",
      "metadata": {
        "colab": {
          "base_uri": "https://localhost:8080/"
        },
        "id": "upF29lumksdu",
        "outputId": "8e4dc99d-53d6-48a0-deef-bf318a457679"
      },
      "source": [
        "accuracy_svm = accuracy_score(y_test, y_pred_svm)\n",
        "precision_svm = precision_score(y_test, y_pred_svm, average='weighted')\n",
        "recall_svm = recall_score(y_test, y_pred_svm, average='weighted')\n",
        "f1_svm = f1_score(y_test, y_pred_svm, average='weighted')\n",
        "\n",
        "print(\"Classificador SVM\\nAcurácia: {:.3f}\\nPrecisão: {:.3f}\\nRecall: {:.3f}\\nF1 Score: {:.3f}\\n\".format(accuracy_svm, precision_svm, recall_svm, f1_svm))"
      ],
      "execution_count": 16,
      "outputs": [
        {
          "output_type": "stream",
          "name": "stdout",
          "text": [
            "Classificador SVM\n",
            "Acurácia: 0.650\n",
            "Precisão: 0.651\n",
            "Recall: 0.650\n",
            "F1 Score: 0.648\n",
            "\n"
          ]
        }
      ]
    },
    {
      "cell_type": "markdown",
      "metadata": {
        "id": "wue0tUOqnraT"
      },
      "source": [
        "## Regressão Logística"
      ]
    },
    {
      "cell_type": "code",
      "metadata": {
        "id": "zjb0eX2wniVm"
      },
      "source": [
        "cl_logistic = LogisticRegression().fit(X_train, y_train)\n",
        "y_pred_lr = cl_logistic.predict(X_test)"
      ],
      "execution_count": 17,
      "outputs": []
    },
    {
      "cell_type": "code",
      "metadata": {
        "colab": {
          "base_uri": "https://localhost:8080/",
          "height": 279
        },
        "id": "xk65IaICpaM8",
        "outputId": "dd693690-2780-4c2f-c066-5fe3b726fc18"
      },
      "source": [
        "plot_confusion_matrix(cl_logistic, X_test, y_test)\n",
        "plt.show()"
      ],
      "execution_count": 18,
      "outputs": [
        {
          "output_type": "display_data",
          "data": {
            "image/png": "[encoded data removed]",
            "text/plain": [
              "<Figure size 432x288 with 2 Axes>"
            ]
          },
          "metadata": {
            "needs_background": "light"
          }
        }
      ]
    },
    {
      "cell_type": "code",
      "metadata": {
        "colab": {
          "base_uri": "https://localhost:8080/"
        },
        "id": "hLVXEKFnpc6S",
        "outputId": "3b3d47c6-ce8b-4707-8513-bfc105004b28"
      },
      "source": [
        "accuracy_lr = accuracy_score(y_test, y_pred_lr)\n",
        "precision_lr = precision_score(y_test, y_pred_lr, average='weighted')\n",
        "recall_lr = recall_score(y_test, y_pred_lr, average='weighted')\n",
        "f1_lr = f1_score(y_test, y_pred_lr, average='weighted')\n",
        "\n",
        "print(\"Classificador Regressão Logística\\nAcurácia: {:.3f}\\nPrecisão: {:.3f}\\nRecall: {:.3f}\\nF1 Score: {:.3f}\\n\".format(accuracy_lr, precision_lr, recall_lr, f1_lr))"
      ],
      "execution_count": 19,
      "outputs": [
        {
          "output_type": "stream",
          "name": "stdout",
          "text": [
            "Classificador Regressão Logística\n",
            "Acurácia: 0.638\n",
            "Precisão: 0.643\n",
            "Recall: 0.638\n",
            "F1 Score: 0.638\n",
            "\n"
          ]
        }
      ]
    },
    {
      "cell_type": "markdown",
      "metadata": {
        "id": "cov9gupSo_Ni"
      },
      "source": [
        "## Naive Bayes"
      ]
    },
    {
      "cell_type": "code",
      "metadata": {
        "id": "1PcY0888p1ev"
      },
      "source": [
        "cl_nb = GaussianNB().fit(X_train, y_train)\n",
        "y_pred_nb = cl_nb.predict(X_test)"
      ],
      "execution_count": 20,
      "outputs": []
    },
    {
      "cell_type": "code",
      "metadata": {
        "colab": {
          "base_uri": "https://localhost:8080/",
          "height": 279
        },
        "id": "OBmdYAGIqCCJ",
        "outputId": "92df5270-823a-4a3c-bece-94d191b4b369"
      },
      "source": [
        "plot_confusion_matrix(cl_nb, X_test, y_test)\n",
        "plt.show()"
      ],
      "execution_count": 21,
      "outputs": [
        {
          "output_type": "display_data",
          "data": {
            "image/png": "[encoded data removed]",
            "text/plain": [
              "<Figure size 432x288 with 2 Axes>"
            ]
          },
          "metadata": {
            "needs_background": "light"
          }
        }
      ]
    },
    {
      "cell_type": "code",
      "metadata": {
        "colab": {
          "base_uri": "https://localhost:8080/"
        },
        "id": "jRAcx8Aqq_HU",
        "outputId": "7b9fd18b-9fd5-421e-ca1c-30ed6e1d5c57"
      },
      "source": [
        "accuracy_nb = accuracy_score(y_test, y_pred_nb)\n",
        "precision_nb = precision_score(y_test, y_pred_nb, average='weighted')\n",
        "recall_nb = recall_score(y_test, y_pred_nb, average='weighted')\n",
        "f1_nb = f1_score(y_test, y_pred_nb, average='weighted')\n",
        "\n",
        "print(\"Classificador Naive Bayes\\nAcurácia: {:.3f}\\nPrecisão: {:.3f}\\nRecall: {:.3f}\\nF1 Score: {:.3f}\\n\".format(accuracy_nb, precision_nb, recall_nb, f1_nb))"
      ],
      "execution_count": 22,
      "outputs": [
        {
          "output_type": "stream",
          "name": "stdout",
          "text": [
            "Classificador Naive Bayes\n",
            "Acurácia: 0.571\n",
            "Precisão: 0.564\n",
            "Recall: 0.571\n",
            "F1 Score: 0.566\n",
            "\n"
          ]
        }
      ]
    },
    {
      "cell_type": "markdown",
      "metadata": {
        "id": "w1SMSYWnrvi9"
      },
      "source": [
        "## Random Forest"
      ]
    },
    {
      "cell_type": "code",
      "metadata": {
        "id": "_hXw0uAGqIIW"
      },
      "source": [
        "cl_rf = RandomForestClassifier(random_state=0, max_depth=7).fit(X_train, y_train)\n",
        "y_pred_rf = cl_rf.predict(X_test)"
      ],
      "execution_count": 23,
      "outputs": []
    },
    {
      "cell_type": "code",
      "metadata": {
        "colab": {
          "base_uri": "https://localhost:8080/",
          "height": 279
        },
        "id": "tdti56-8qs0U",
        "outputId": "7133995c-0afa-4766-b4f6-62da013e5183"
      },
      "source": [
        "plot_confusion_matrix(cl_rf, X_test, y_test)\n",
        "plt.show()"
      ],
      "execution_count": 24,
      "outputs": [
        {
          "output_type": "display_data",
          "data": {
            "image/png": "[encoded data removed]",
            "text/plain": [
              "<Figure size 432x288 with 2 Axes>"
            ]
          },
          "metadata": {
            "needs_background": "light"
          }
        }
      ]
    },
    {
      "cell_type": "code",
      "metadata": {
        "colab": {
          "base_uri": "https://localhost:8080/"
        },
        "id": "KsIIelODqyOA",
        "outputId": "914debc8-0382-4539-9768-19dfeccc959b"
      },
      "source": [
        "accuracy_rf = accuracy_score(y_test, y_pred_rf)\n",
        "precision_rf = precision_score(y_test, y_pred_rf, average='weighted')\n",
        "recall_rf = recall_score(y_test, y_pred_rf, average='weighted')\n",
        "f1_rf = f1_score(y_test, y_pred_rf, average='weighted')\n",
        "\n",
        "print(\"Classificador Random Forest\\nAcurácia: {:.3f}\\nPrecisão: {:.3f}\\nRecall: {:.3f}\\nF1 Score: {:.3f}\\n\".format(accuracy_rf, precision_rf, recall_rf, f1_rf))"
      ],
      "execution_count": 25,
      "outputs": [
        {
          "output_type": "stream",
          "name": "stdout",
          "text": [
            "Classificador Random Forest\n",
            "Acurácia: 0.651\n",
            "Precisão: 0.661\n",
            "Recall: 0.651\n",
            "F1 Score: 0.655\n",
            "\n"
          ]
        }
      ]
    },
    {
      "cell_type": "code",
      "metadata": {
        "colab": {
          "base_uri": "https://localhost:8080/",
          "height": 175
        },
        "id": "l0zckvPJrkcH",
        "outputId": "c89f6d81-24c8-490b-8cd0-3ee908a50149"
      },
      "source": [
        "svm_results = [accuracy_svm, precision_svm, recall_svm, f1_svm]\n",
        "lr_results = [accuracy_lr, precision_lr, recall_lr, f1_lr]\n",
        "nb_results = [accuracy_nb, precision_nb, recall_nb, f1_nb]\n",
        "rf_results = [accuracy_rf, precision_rf, recall_rf, f1_rf]\n",
        "\n",
        "data_results = {\n",
        "    'SVM': svm_results,\n",
        "    'Regressão Logística': lr_results,\n",
        "    'Naive Bayes': nb_results,\n",
        "    'Random Forest': rf_results,\n",
        "}\n",
        "\n",
        "index_values = ['accuracy', 'precision', 'recall', 'f1']\n",
        "pd.set_option('display.max_columns', None)\n",
        "\n",
        "df_results = pd.DataFrame(data_results, index=index_values)\n",
        "\n",
        "df_results"
      ],
      "execution_count": 26,
      "outputs": [
        {
          "output_type": "execute_result",
          "data": {
            "text/html": [
              "<div>\n",
              "<style scoped>\n",
              "    .dataframe tbody tr th:only-of-type {\n",
              "        vertical-align: middle;\n",
              "    }\n",
              "\n",
              "    .dataframe tbody tr th {\n",
              "        vertical-align: top;\n",
              "    }\n",
              "\n",
              "    .dataframe thead th {\n",
              "        text-align: right;\n",
              "    }\n",
              "</style>\n",
              "<table border=\"1\" class=\"dataframe\">\n",
              "  <thead>\n",
              "    <tr style=\"text-align: right;\">\n",
              "      <th></th>\n",
              "      <th>SVM</th>\n",
              "      <th>Regressão Logística</th>\n",
              "      <th>Naive Bayes</th>\n",
              "      <th>Random Forest</th>\n",
              "    </tr>\n",
              "  </thead>\n",
              "  <tbody>\n",
              "    <tr>\n",
              "      <th>accuracy</th>\n",
              "      <td>0.650000</td>\n",
              "      <td>0.638298</td>\n",
              "      <td>0.571277</td>\n",
              "      <td>0.651064</td>\n",
              "    </tr>\n",
              "    <tr>\n",
              "      <th>precision</th>\n",
              "      <td>0.650550</td>\n",
              "      <td>0.642839</td>\n",
              "      <td>0.564155</td>\n",
              "      <td>0.660624</td>\n",
              "    </tr>\n",
              "    <tr>\n",
              "      <th>recall</th>\n",
              "      <td>0.650000</td>\n",
              "      <td>0.638298</td>\n",
              "      <td>0.571277</td>\n",
              "      <td>0.651064</td>\n",
              "    </tr>\n",
              "    <tr>\n",
              "      <th>f1</th>\n",
              "      <td>0.648371</td>\n",
              "      <td>0.638441</td>\n",
              "      <td>0.566021</td>\n",
              "      <td>0.654640</td>\n",
              "    </tr>\n",
              "  </tbody>\n",
              "</table>\n",
              "</div>"
            ],
            "text/plain": [
              "                SVM  Regressão Logística  Naive Bayes  Random Forest\n",
              "accuracy   0.650000             0.638298     0.571277       0.651064\n",
              "precision  0.650550             0.642839     0.564155       0.660624\n",
              "recall     0.650000             0.638298     0.571277       0.651064\n",
              "f1         0.648371             0.638441     0.566021       0.654640"
            ]
          },
          "metadata": {},
          "execution_count": 26
        }
      ]
    },
    {
      "cell_type": "code",
      "metadata": {
        "colab": {
          "base_uri": "https://localhost:8080/"
        },
        "id": "DqeyQo0roD93",
        "outputId": "99a1a7de-5db3-42fa-9921-4a6fd70320ea"
      },
      "source": [
        "##alterar p servidor das coisas de validação\n",
        "'''\n",
        "print(' - Aplicando modelo e enviando para o servidor')\n",
        "data_test = data_test[feature_cols]\n",
        "y_pred = cl_rf.predict(data_test)\n",
        "\n",
        "# Enviando previsões realizadas com o modelo para o servidor\n",
        "URL = \"https://aydanomachado.com/mlclass/03_Validation.php\"\n",
        "\n",
        "#TODO Substituir pela sua chave aqui\n",
        "DEV_KEY = \"shantay u stay\"\n",
        "\n",
        "# json para ser enviado para o servidor\n",
        "data = {'dev_key':DEV_KEY,\n",
        "        'predictions':pd.Series(y_pred).to_json(orient='values')}\n",
        "\n",
        "# Enviando requisição e salvando o objeto resposta\n",
        "r = requests.post(url = URL, data = data)\n",
        "\n",
        "# Extraindo e imprimindo o texto da resposta\n",
        "pastebin_url = r.text\n",
        "print(\" - Resposta do servidor:\\n\", r.text, \"\\n\")\n",
        "'''"
      ],
      "execution_count": 27,
      "outputs": [
        {
          "output_type": "stream",
          "name": "stdout",
          "text": [
            " - Aplicando modelo e enviando para o servidor\n",
            " - Resposta do servidor:\n",
            " {\"status\":\"success\",\"dev_key\":\"shantay u stay\",\"accuracy\":0.6688995215311004,\"old_accuracy\":0} \n",
            "\n"
          ]
        }
      ]
    }
  ]
}